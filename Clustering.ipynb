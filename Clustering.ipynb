{
 "cells": [
  {
   "cell_type": "code",
   "execution_count": 25,
   "metadata": {},
   "outputs": [],
   "source": [
    "import numpy as np\n",
    "from metrics import fast_simple_silhouette_index\n",
    "from Wishart import PreTrainWishart\n",
    "from tqdm import tqdm_notebook\n",
    "from sklearn.decomposition import PCA\n",
    "from sklearn.preprocessing import StandardScaler"
   ]
  },
  {
   "cell_type": "code",
   "execution_count": 27,
   "metadata": {},
   "outputs": [],
   "source": [
    "dim = 100\n",
    "pca = PCA(n_components = dim)\n",
    "\n",
    "objects = np.load(\"all_200000_targets.npy\")\n",
    "target = objects[:-2, -1]\n",
    "objects = objects[:-2, :-1]\n",
    "objects = StandardScaler().fit_transform(objects)\n",
    "objects = pca.fit_transform(objects)\n",
    "objects = StandardScaler().fit_transform(objects)\n",
    "\n",
    "neighbors = np.load('./pretrained/51_ngbs_normed_{}.npy'.format(dim))\n",
    "distances = np.load('./pretrained/dist_for_51_ngbs_normed_{}.npy'.format(dim))"
   ]
  },
  {
   "cell_type": "code",
   "execution_count": 48,
   "metadata": {},
   "outputs": [
    {
     "data": {
      "application/vnd.jupyter.widget-view+json": {
       "model_id": "065be7740ec8447690f43c29319e04b2",
       "version_major": 2,
       "version_minor": 0
      },
      "text/plain": [
       "HBox(children=(IntProgress(value=0, max=20), HTML(value='')))"
      ]
     },
     "metadata": {},
     "output_type": "display_data"
    },
    {
     "name": "stdout",
     "output_type": "stream",
     "text": [
      "10000000000.0\n",
      "0 7\n",
      "1 10\n",
      "2 200777\n",
      "3 10\n",
      "4 10\n",
      "5 6\n",
      "6 16\n",
      "Number of clusters = 7\n",
      "Count of noises = 0\n"
     ]
    },
    {
     "data": {
      "application/vnd.jupyter.widget-view+json": {
       "model_id": "a01bf5e1e87643ceb5db132224ac9dcd",
       "version_major": 2,
       "version_minor": 0
      },
      "text/plain": [
       "HBox(children=(IntProgress(value=1, bar_style='info', max=1), HTML(value='')))"
      ]
     },
     "metadata": {},
     "output_type": "display_data"
    },
    {
     "name": "stdout",
     "output_type": "stream",
     "text": [
      "Simple sil = 0.34824591538479166\n",
      "112883789168.46883\n",
      "0 7\n",
      "1 10\n",
      "2 200777\n",
      "3 10\n",
      "4 10\n",
      "5 6\n",
      "6 16\n",
      "Number of clusters = 7\n",
      "Count of noises = 0\n"
     ]
    },
    {
     "data": {
      "application/vnd.jupyter.widget-view+json": {
       "model_id": "e86a75e112d744a0b331deb9c9523a65",
       "version_major": 2,
       "version_minor": 0
      },
      "text/plain": [
       "HBox(children=(IntProgress(value=1, bar_style='info', max=1), HTML(value='')))"
      ]
     },
     "metadata": {},
     "output_type": "display_data"
    },
    {
     "name": "stdout",
     "output_type": "stream",
     "text": [
      "Simple sil = 0.34824591538479166\n",
      "1274274985703.132\n",
      "0 7\n",
      "1 10\n",
      "2 200777\n",
      "3 10\n",
      "4 10\n",
      "5 6\n",
      "6 16\n",
      "Number of clusters = 7\n",
      "Count of noises = 0\n"
     ]
    },
    {
     "data": {
      "application/vnd.jupyter.widget-view+json": {
       "model_id": "f937e47040e74dee98ef0e45c83e1fc7",
       "version_major": 2,
       "version_minor": 0
      },
      "text/plain": [
       "HBox(children=(IntProgress(value=1, bar_style='info', max=1), HTML(value='')))"
      ]
     },
     "metadata": {},
     "output_type": "display_data"
    },
    {
     "name": "stdout",
     "output_type": "stream",
     "text": [
      "Simple sil = 0.34824591538479166\n",
      "14384498882876.66\n",
      "0 7\n",
      "1 10\n",
      "2 200777\n",
      "3 10\n",
      "4 10\n",
      "5 6\n",
      "6 16\n",
      "Number of clusters = 7\n",
      "Count of noises = 0\n"
     ]
    },
    {
     "data": {
      "application/vnd.jupyter.widget-view+json": {
       "model_id": "4987821b654e41dea56ae03824c37555",
       "version_major": 2,
       "version_minor": 0
      },
      "text/plain": [
       "HBox(children=(IntProgress(value=1, bar_style='info', max=1), HTML(value='')))"
      ]
     },
     "metadata": {},
     "output_type": "display_data"
    },
    {
     "name": "stdout",
     "output_type": "stream",
     "text": [
      "Simple sil = 0.34824591538479166\n",
      "162377673918871.75\n",
      "0 7\n",
      "1 10\n",
      "2 200777\n",
      "3 10\n",
      "4 10\n",
      "5 6\n",
      "6 16\n",
      "Number of clusters = 7\n",
      "Count of noises = 0\n"
     ]
    },
    {
     "data": {
      "application/vnd.jupyter.widget-view+json": {
       "model_id": "88e8c557feda4861bb3ef6638f56dcea",
       "version_major": 2,
       "version_minor": 0
      },
      "text/plain": [
       "HBox(children=(IntProgress(value=1, bar_style='info', max=1), HTML(value='')))"
      ]
     },
     "metadata": {},
     "output_type": "display_data"
    },
    {
     "name": "stdout",
     "output_type": "stream",
     "text": [
      "Simple sil = 0.34824591538479166\n",
      "1832980710832437.5\n",
      "0 7\n",
      "1 10\n",
      "2 200777\n",
      "3 10\n",
      "4 10\n",
      "5 6\n",
      "6 16\n",
      "Number of clusters = 7\n",
      "Count of noises = 0\n"
     ]
    },
    {
     "data": {
      "application/vnd.jupyter.widget-view+json": {
       "model_id": "13a31136f0c4440588956023bd88cf4b",
       "version_major": 2,
       "version_minor": 0
      },
      "text/plain": [
       "HBox(children=(IntProgress(value=1, bar_style='info', max=1), HTML(value='')))"
      ]
     },
     "metadata": {},
     "output_type": "display_data"
    },
    {
     "name": "stdout",
     "output_type": "stream",
     "text": [
      "Simple sil = 0.34824591538479166\n",
      "2.0691380811147984e+16\n",
      "0 7\n",
      "1 10\n",
      "2 200777\n",
      "3 10\n",
      "4 10\n",
      "5 6\n",
      "6 16\n",
      "Number of clusters = 7\n",
      "Count of noises = 0\n"
     ]
    },
    {
     "data": {
      "application/vnd.jupyter.widget-view+json": {
       "model_id": "6bfebf9156434978b16c9c7cdb48ffad",
       "version_major": 2,
       "version_minor": 0
      },
      "text/plain": [
       "HBox(children=(IntProgress(value=1, bar_style='info', max=1), HTML(value='')))"
      ]
     },
     "metadata": {},
     "output_type": "display_data"
    },
    {
     "name": "stdout",
     "output_type": "stream",
     "text": [
      "Simple sil = 0.34824591538479166\n",
      "2.3357214690901213e+17\n",
      "0 7\n",
      "1 10\n",
      "2 200777\n",
      "3 10\n",
      "4 10\n",
      "5 6\n",
      "6 16\n",
      "Number of clusters = 7\n",
      "Count of noises = 0\n"
     ]
    },
    {
     "data": {
      "application/vnd.jupyter.widget-view+json": {
       "model_id": "8017342b94af4805a1eaa6a00b901596",
       "version_major": 2,
       "version_minor": 0
      },
      "text/plain": [
       "HBox(children=(IntProgress(value=1, bar_style='info', max=1), HTML(value='')))"
      ]
     },
     "metadata": {},
     "output_type": "display_data"
    },
    {
     "name": "stdout",
     "output_type": "stream",
     "text": [
      "Simple sil = 0.34824591538479166\n",
      "2.6366508987303444e+18\n",
      "0 7\n",
      "1 10\n",
      "2 200777\n",
      "3 10\n",
      "4 10\n",
      "5 6\n",
      "6 16\n",
      "Number of clusters = 7\n",
      "Count of noises = 0\n"
     ]
    },
    {
     "data": {
      "application/vnd.jupyter.widget-view+json": {
       "model_id": "0d6aee6fb43947c7b0395f3dc9eba72c",
       "version_major": 2,
       "version_minor": 0
      },
      "text/plain": [
       "HBox(children=(IntProgress(value=1, bar_style='info', max=1), HTML(value='')))"
      ]
     },
     "metadata": {},
     "output_type": "display_data"
    },
    {
     "name": "stdout",
     "output_type": "stream",
     "text": [
      "Simple sil = 0.34824591538479166\n",
      "2.976351441631313e+19\n",
      "0 7\n",
      "1 10\n",
      "2 200777\n",
      "3 10\n",
      "4 10\n",
      "5 6\n",
      "6 16\n",
      "Number of clusters = 7\n",
      "Count of noises = 0\n"
     ]
    },
    {
     "data": {
      "application/vnd.jupyter.widget-view+json": {
       "model_id": "b60cda2f64bb4d08b33c7a31da8c9292",
       "version_major": 2,
       "version_minor": 0
      },
      "text/plain": [
       "HBox(children=(IntProgress(value=1, bar_style='info', max=1), HTML(value='')))"
      ]
     },
     "metadata": {},
     "output_type": "display_data"
    },
    {
     "name": "stdout",
     "output_type": "stream",
     "text": [
      "Simple sil = 0.34824591538479166\n",
      "3.359818286283788e+20\n",
      "0 7\n",
      "1 10\n",
      "2 200777\n",
      "3 10\n",
      "4 10\n",
      "5 6\n",
      "6 16\n",
      "Number of clusters = 7\n",
      "Count of noises = 0\n"
     ]
    },
    {
     "data": {
      "application/vnd.jupyter.widget-view+json": {
       "model_id": "886b0c000e20477ea4af5b2aa3875fbb",
       "version_major": 2,
       "version_minor": 0
      },
      "text/plain": [
       "HBox(children=(IntProgress(value=1, bar_style='info', max=1), HTML(value='')))"
      ]
     },
     "metadata": {},
     "output_type": "display_data"
    },
    {
     "name": "stdout",
     "output_type": "stream",
     "text": [
      "Simple sil = 0.34824591538479166\n",
      "3.792690190732238e+21\n",
      "0 7\n",
      "1 10\n",
      "2 200777\n",
      "3 10\n",
      "4 10\n",
      "5 6\n",
      "6 16\n",
      "Number of clusters = 7\n",
      "Count of noises = 0\n"
     ]
    },
    {
     "data": {
      "application/vnd.jupyter.widget-view+json": {
       "model_id": "f74e1369ad684a63b7d62a1282bdd3bb",
       "version_major": 2,
       "version_minor": 0
      },
      "text/plain": [
       "HBox(children=(IntProgress(value=1, bar_style='info', max=1), HTML(value='')))"
      ]
     },
     "metadata": {},
     "output_type": "display_data"
    },
    {
     "name": "stdout",
     "output_type": "stream",
     "text": [
      "Simple sil = 0.34824591538479166\n",
      "4.281332398719396e+22\n",
      "0 7\n",
      "1 10\n",
      "2 200777\n",
      "3 10\n",
      "4 10\n",
      "5 6\n",
      "6 16\n",
      "Number of clusters = 7\n",
      "Count of noises = 0\n"
     ]
    },
    {
     "data": {
      "application/vnd.jupyter.widget-view+json": {
       "model_id": "aa203837cf3243f799441af139df3d7b",
       "version_major": 2,
       "version_minor": 0
      },
      "text/plain": [
       "HBox(children=(IntProgress(value=1, bar_style='info', max=1), HTML(value='')))"
      ]
     },
     "metadata": {},
     "output_type": "display_data"
    },
    {
     "name": "stdout",
     "output_type": "stream",
     "text": [
      "Simple sil = 0.34824591538479166\n",
      "4.832930238571732e+23\n",
      "0 7\n",
      "1 10\n",
      "2 200777\n",
      "3 10\n",
      "4 10\n",
      "5 6\n",
      "6 16\n",
      "Number of clusters = 7\n",
      "Count of noises = 0\n"
     ]
    },
    {
     "data": {
      "application/vnd.jupyter.widget-view+json": {
       "model_id": "05529d245c734e40a2d254470d0562da",
       "version_major": 2,
       "version_minor": 0
      },
      "text/plain": [
       "HBox(children=(IntProgress(value=1, bar_style='info', max=1), HTML(value='')))"
      ]
     },
     "metadata": {},
     "output_type": "display_data"
    },
    {
     "name": "stdout",
     "output_type": "stream",
     "text": [
      "Simple sil = 0.34824591538479166\n",
      "5.455594781168514e+24\n",
      "0 7\n",
      "1 10\n",
      "2 200777\n",
      "3 10\n",
      "4 10\n",
      "5 6\n",
      "6 16\n",
      "Number of clusters = 7\n",
      "Count of noises = 0\n"
     ]
    },
    {
     "data": {
      "application/vnd.jupyter.widget-view+json": {
       "model_id": "936f774a484f44e597571ce08f06a5c5",
       "version_major": 2,
       "version_minor": 0
      },
      "text/plain": [
       "HBox(children=(IntProgress(value=1, bar_style='info', max=1), HTML(value='')))"
      ]
     },
     "metadata": {},
     "output_type": "display_data"
    },
    {
     "name": "stdout",
     "output_type": "stream",
     "text": [
      "Simple sil = 0.34824591538479166\n",
      "6.158482110660279e+25\n",
      "0 7\n",
      "1 10\n",
      "2 200777\n",
      "3 10\n",
      "4 10\n",
      "5 6\n",
      "6 16\n",
      "Number of clusters = 7\n",
      "Count of noises = 0\n"
     ]
    },
    {
     "data": {
      "application/vnd.jupyter.widget-view+json": {
       "model_id": "b024b9b47cc246c385d74dabbb86fc5e",
       "version_major": 2,
       "version_minor": 0
      },
      "text/plain": [
       "HBox(children=(IntProgress(value=1, bar_style='info', max=1), HTML(value='')))"
      ]
     },
     "metadata": {},
     "output_type": "display_data"
    },
    {
     "name": "stdout",
     "output_type": "stream",
     "text": [
      "Simple sil = 0.34824591538479166\n",
      "6.951927961775592e+26\n",
      "0 7\n",
      "1 10\n",
      "2 200777\n",
      "3 10\n",
      "4 10\n",
      "5 6\n",
      "6 16\n",
      "Number of clusters = 7\n",
      "Count of noises = 0\n"
     ]
    },
    {
     "data": {
      "application/vnd.jupyter.widget-view+json": {
       "model_id": "11008adab3454777b55f17b57bc3cd13",
       "version_major": 2,
       "version_minor": 0
      },
      "text/plain": [
       "HBox(children=(IntProgress(value=1, bar_style='info', max=1), HTML(value='')))"
      ]
     },
     "metadata": {},
     "output_type": "display_data"
    },
    {
     "name": "stdout",
     "output_type": "stream",
     "text": [
      "Simple sil = 0.34824591538479166\n",
      "7.847599703514623e+27\n",
      "0 7\n",
      "1 10\n",
      "2 200777\n",
      "3 10\n",
      "4 10\n",
      "5 6\n",
      "6 16\n",
      "Number of clusters = 7\n",
      "Count of noises = 0\n"
     ]
    },
    {
     "data": {
      "application/vnd.jupyter.widget-view+json": {
       "model_id": "666c212321334112b18f026b855c863c",
       "version_major": 2,
       "version_minor": 0
      },
      "text/plain": [
       "HBox(children=(IntProgress(value=1, bar_style='info', max=1), HTML(value='')))"
      ]
     },
     "metadata": {},
     "output_type": "display_data"
    },
    {
     "name": "stdout",
     "output_type": "stream",
     "text": [
      "Simple sil = 0.34824591538479166\n",
      "8.858667904100796e+28\n",
      "0 7\n",
      "1 10\n",
      "2 200777\n",
      "3 10\n",
      "4 10\n",
      "5 6\n",
      "6 16\n",
      "Number of clusters = 7\n",
      "Count of noises = 0\n"
     ]
    },
    {
     "data": {
      "application/vnd.jupyter.widget-view+json": {
       "model_id": "62969a76c54c4495b2baaee76d3f981d",
       "version_major": 2,
       "version_minor": 0
      },
      "text/plain": [
       "HBox(children=(IntProgress(value=1, bar_style='info', max=1), HTML(value='')))"
      ]
     },
     "metadata": {},
     "output_type": "display_data"
    },
    {
     "name": "stdout",
     "output_type": "stream",
     "text": [
      "Simple sil = 0.34824591538479166\n",
      "1e+30\n",
      "0 7\n",
      "1 10\n",
      "2 200777\n",
      "3 10\n",
      "4 10\n",
      "5 6\n",
      "6 16\n",
      "Number of clusters = 7\n",
      "Count of noises = 0\n"
     ]
    },
    {
     "data": {
      "application/vnd.jupyter.widget-view+json": {
       "model_id": "4db33c1188504945bdb22f339a8225c9",
       "version_major": 2,
       "version_minor": 0
      },
      "text/plain": [
       "HBox(children=(IntProgress(value=1, bar_style='info', max=1), HTML(value='')))"
      ]
     },
     "metadata": {},
     "output_type": "display_data"
    },
    {
     "name": "stdout",
     "output_type": "stream",
     "text": [
      "Simple sil = 0.34824591538479166\n"
     ]
    }
   ],
   "source": [
    "for sig in tqdm_notebook(np.logspace(10, 30, 20)):\n",
    "    print(sig)\n",
    "    wishart = PreTrainWishart(significance_level = sig,\\\n",
    "                          wishart_neighbors = 5,\\\n",
    "                          distances = distances,\\\n",
    "                        neighbors = neighbors)\n",
    "    predict = wishart.fit(objects)\n",
    "    \n",
    "    max_cluster = np.max(predict)\n",
    "    min_cluster = np.min(predict)\n",
    "                      \n",
    "    clusters = [[] for i in range(max_cluster - min_cluster + 1)]\n",
    "    for index, cluster in enumerate(predict):\n",
    "        clusters[cluster - min_cluster].append(index)\n",
    "    for index, cluster in enumerate(clusters):\n",
    "        print(index, len(cluster))\n",
    "\n",
    "    means = np.empty((len(clusters), objects.shape[1]))\n",
    "    for index, cluster_elems in enumerate(clusters):\n",
    "        means[index] = np.mean(objects[cluster_elems], axis = 0)\n",
    "            \n",
    "    print(\"Number of clusters = {}\".format(len(clusters)))\n",
    "    print(\"Count of noises = {}\".format(predict[predict == 0].shape[0]))\n",
    "    if len(clusters) == 1:\n",
    "        continue\n",
    "    index = fast_simple_silhouette_index(clusters, means, objects)\n",
    "    print('Simple sil = {}'.format(index))\n",
    "    "
   ]
  },
  {
   "cell_type": "code",
   "execution_count": 20,
   "metadata": {},
   "outputs": [
    {
     "name": "stdout",
     "output_type": "stream",
     "text": [
      "Number of clusters = 332\n"
     ]
    },
    {
     "data": {
      "application/vnd.jupyter.widget-view+json": {
       "model_id": "2b959056768c4b06b885dea5b5016bcc",
       "version_major": 2,
       "version_minor": 0
      },
      "text/plain": [
       "HBox(children=(IntProgress(value=1, bar_style='info', max=1), HTML(value='')))"
      ]
     },
     "metadata": {},
     "output_type": "display_data"
    },
    {
     "name": "stdout",
     "output_type": "stream",
     "text": [
      "0.1 3 -0.2958353505486648\n"
     ]
    }
   ],
   "source": [
    "clusters = [[] for i in range(np.max(predict))]\n",
    "for index, cluster in enumerate(predict):\n",
    "    clusters[cluster - 1].append(index)\n",
    "means = np.empty((len(clusters), objects.shape[1]))\n",
    "    \n",
    "for index, cluster_elems in enumerate(clusters):\n",
    "    means[index] = np.mean(objects[cluster_elems], axis = 0)\n",
    "\n",
    "index = fast_simple_silhouette_index(clusters, means, objects)\n",
    "print(0.1, 3, index)"
   ]
  },
  {
   "cell_type": "code",
   "execution_count": 21,
   "metadata": {},
   "outputs": [
    {
     "data": {
      "application/vnd.jupyter.widget-view+json": {
       "model_id": "0326a5f8160045f487ecb9674a551393",
       "version_major": 2,
       "version_minor": 0
      },
      "text/plain": [
       "HBox(children=(IntProgress(value=1, bar_style='info', max=1), HTML(value='')))"
      ]
     },
     "metadata": {},
     "output_type": "display_data"
    },
    {
     "name": "stdout",
     "output_type": "stream",
     "text": [
      "0.1 3 0.0037219694022164115\n"
     ]
    }
   ],
   "source": [
    "index = fast_simple_silhouette_index(clusters[:-1], means[:-1], objects)\n",
    "print(0.1, 3, index)"
   ]
  },
  {
   "cell_type": "code",
   "execution_count": 22,
   "metadata": {},
   "outputs": [
    {
     "name": "stdout",
     "output_type": "stream",
     "text": [
      "(199183,)\n"
     ]
    }
   ],
   "source": [
    "print(predict[predict == 0].shape)"
   ]
  },
  {
   "cell_type": "code",
   "execution_count": 47,
   "metadata": {},
   "outputs": [
    {
     "name": "stdout",
     "output_type": "stream",
     "text": [
      "4 3\n",
      "8 2\n",
      "174233 26544\n",
      "10 0\n",
      "7 3\n",
      "5 1\n",
      "3 13\n"
     ]
    }
   ],
   "source": [
    "for cluster in clusters:\n",
    "    positive = 0\n",
    "    negative = 0\n",
    "    for i in cluster:\n",
    "        if target[i] == 1:\n",
    "            positive += 1\n",
    "        else:\n",
    "            negative += 1\n",
    "    print(positive, negative)"
   ]
  },
  {
   "cell_type": "markdown",
   "metadata": {},
   "source": [
    "## Clustering"
   ]
  },
  {
   "cell_type": "code",
   "execution_count": 39,
   "metadata": {
    "scrolled": false
   },
   "outputs": [
    {
     "data": {
      "application/vnd.jupyter.widget-view+json": {
       "model_id": "40c17b63bd4143439f3259b5b349e1b9",
       "version_major": 2,
       "version_minor": 0
      },
      "text/plain": [
       "HBox(children=(IntProgress(value=0, max=1), HTML(value='')))"
      ]
     },
     "metadata": {},
     "output_type": "display_data"
    },
    {
     "data": {
      "application/vnd.jupyter.widget-view+json": {
       "model_id": "9fbe8d2d08274bfbba23cc13c3c5a3a4",
       "version_major": 2,
       "version_minor": 0
      },
      "text/plain": [
       "HBox(children=(IntProgress(value=0, max=6), HTML(value='')))"
      ]
     },
     "metadata": {},
     "output_type": "display_data"
    },
    {
     "name": "stdout",
     "output_type": "stream",
     "text": [
      "Number of clusters = 21\n"
     ]
    },
    {
     "data": {
      "application/vnd.jupyter.widget-view+json": {
       "model_id": "bdf5147ca086425ca4ca4e9f6a22964a",
       "version_major": 2,
       "version_minor": 0
      },
      "text/plain": [
       "HBox(children=(IntProgress(value=1, bar_style='info', max=1), HTML(value='')))"
      ]
     },
     "metadata": {},
     "output_type": "display_data"
    },
    {
     "name": "stdout",
     "output_type": "stream",
     "text": [
      "100000000 3 0.06873579637332058\n",
      "Number of clusters = 9\n"
     ]
    },
    {
     "data": {
      "application/vnd.jupyter.widget-view+json": {
       "model_id": "142ad2d595464ede8ed427be3e139d68",
       "version_major": 2,
       "version_minor": 0
      },
      "text/plain": [
       "HBox(children=(IntProgress(value=1, bar_style='info', max=1), HTML(value='')))"
      ]
     },
     "metadata": {},
     "output_type": "display_data"
    },
    {
     "ename": "KeyboardInterrupt",
     "evalue": "",
     "output_type": "error",
     "traceback": [
      "\u001b[0;31m---------------------------------------------------------------------------\u001b[0m",
      "\u001b[0;31mKeyboardInterrupt\u001b[0m                         Traceback (most recent call last)",
      "\u001b[0;32m<ipython-input-39-0b900dd02b8d>\u001b[0m in \u001b[0;36m<module>\u001b[0;34m\u001b[0m\n\u001b[1;32m     23\u001b[0m         \u001b[0;32mif\u001b[0m \u001b[0mlen\u001b[0m\u001b[0;34m(\u001b[0m\u001b[0mclusters\u001b[0m\u001b[0;34m)\u001b[0m \u001b[0;34m==\u001b[0m \u001b[0;36m1\u001b[0m\u001b[0;34m:\u001b[0m\u001b[0;34m\u001b[0m\u001b[0m\n\u001b[1;32m     24\u001b[0m             \u001b[0;32mcontinue\u001b[0m\u001b[0;34m\u001b[0m\u001b[0m\n\u001b[0;32m---> 25\u001b[0;31m         \u001b[0mindex\u001b[0m \u001b[0;34m=\u001b[0m \u001b[0mfast_simple_silhouette_index\u001b[0m\u001b[0;34m(\u001b[0m\u001b[0mclusters\u001b[0m\u001b[0;34m,\u001b[0m \u001b[0mmeans\u001b[0m\u001b[0;34m,\u001b[0m \u001b[0mobjects\u001b[0m\u001b[0;34m)\u001b[0m\u001b[0;34m\u001b[0m\u001b[0m\n\u001b[0m\u001b[1;32m     26\u001b[0m         \u001b[0msils_sig\u001b[0m\u001b[0;34m.\u001b[0m\u001b[0mappend\u001b[0m\u001b[0;34m(\u001b[0m\u001b[0mindex\u001b[0m\u001b[0;34m)\u001b[0m\u001b[0;34m\u001b[0m\u001b[0m\n\u001b[1;32m     27\u001b[0m         \u001b[0mprint\u001b[0m\u001b[0;34m(\u001b[0m\u001b[0msig\u001b[0m\u001b[0;34m,\u001b[0m \u001b[0mneighbor\u001b[0m\u001b[0;34m,\u001b[0m \u001b[0mindex\u001b[0m\u001b[0;34m)\u001b[0m\u001b[0;34m\u001b[0m\u001b[0m\n",
      "\u001b[0;32m~/Диплом/metrics.py\u001b[0m in \u001b[0;36mfast_simple_silhouette_index\u001b[0;34m(clusters, means, objects)\u001b[0m\n\u001b[1;32m    172\u001b[0m     \u001b[0;32mfor\u001b[0m \u001b[0mcluster_index\u001b[0m\u001b[0;34m,\u001b[0m \u001b[0mcluster\u001b[0m \u001b[0;32min\u001b[0m  \u001b[0mtqdm_notebook\u001b[0m\u001b[0;34m(\u001b[0m\u001b[0menumerate\u001b[0m\u001b[0;34m(\u001b[0m\u001b[0mclusters\u001b[0m\u001b[0;34m)\u001b[0m\u001b[0;34m)\u001b[0m\u001b[0;34m:\u001b[0m\u001b[0;34m\u001b[0m\u001b[0m\n\u001b[1;32m    173\u001b[0m         \u001b[0;32mfor\u001b[0m \u001b[0mobject_index\u001b[0m \u001b[0;32min\u001b[0m \u001b[0mcluster\u001b[0m\u001b[0;34m:\u001b[0m\u001b[0;34m\u001b[0m\u001b[0m\n\u001b[0;32m--> 174\u001b[0;31m             \u001b[0mx\u001b[0m \u001b[0;34m=\u001b[0m \u001b[0mobjects\u001b[0m\u001b[0;34m[\u001b[0m\u001b[0mobject_index\u001b[0m\u001b[0;34m]\u001b[0m\u001b[0;34m\u001b[0m\u001b[0m\n\u001b[0m\u001b[1;32m    175\u001b[0m             \u001b[0mdist_matrix\u001b[0m \u001b[0;34m=\u001b[0m \u001b[0mnp\u001b[0m\u001b[0;34m.\u001b[0m\u001b[0mlinalg\u001b[0m\u001b[0;34m.\u001b[0m\u001b[0mnorm\u001b[0m\u001b[0;34m(\u001b[0m\u001b[0mmeans\u001b[0m \u001b[0;34m-\u001b[0m \u001b[0mx\u001b[0m\u001b[0;34m,\u001b[0m \u001b[0maxis\u001b[0m \u001b[0;34m=\u001b[0m \u001b[0;36m1\u001b[0m\u001b[0;34m)\u001b[0m\u001b[0;34m\u001b[0m\u001b[0m\n\u001b[1;32m    176\u001b[0m \u001b[0;34m\u001b[0m\u001b[0m\n",
      "\u001b[0;31mKeyboardInterrupt\u001b[0m: "
     ]
    }
   ],
   "source": [
    "from Wishart import PreTrainWishart\n",
    "sils = []\n",
    "for sig in tqdm_notebook([100000000]):\n",
    "    sils_sig = []\n",
    "    for neighbor in tqdm_notebook([3, 5, 7, 10, 30, 50]):\n",
    "        wishart = PreTrainWishart(significance_level = sig,\\\n",
    "                                  wishart_neighbors = neighbor,\\\n",
    "                                  distances = distances,\\\n",
    "                                  neighbors = neighbors)\n",
    "        predict = wishart.fit(objects)\n",
    "        max_cluster = np.max(predict)\n",
    "        min_cluster = np.min(predict)\n",
    "\n",
    "        clusters = [[] for i in range(max_cluster - min_cluster + 1)]\n",
    "        for index, cluster in enumerate(predict):\n",
    "            clusters[cluster - min_cluster].append(index)\n",
    "\n",
    "        means = np.empty((len(clusters), objects.shape[1]))\n",
    "        for index, cluster_elems in enumerate(clusters):\n",
    "            means[index] = np.mean(objects[cluster_elems], axis = 0)\n",
    "            \n",
    "        print(\"Number of clusters = {}\".format(len(clusters)))\n",
    "        if len(clusters) == 1:\n",
    "            continue\n",
    "        index = fast_simple_silhouette_index(clusters, means, objects)\n",
    "        sils_sig.append(index)\n",
    "        print(sig, neighbor, index)\n",
    "    sils.append(sils_sig.copy())"
   ]
  },
  {
   "cell_type": "code",
   "execution_count": 36,
   "metadata": {},
   "outputs": [],
   "source": [
    "norm_objects = np.linalg.norm(objects, axis = 1)"
   ]
  },
  {
   "cell_type": "code",
   "execution_count": 37,
   "metadata": {},
   "outputs": [
    {
     "data": {
      "text/plain": [
       "(2.915494432262999, 83.2018783563561)"
      ]
     },
     "execution_count": 37,
     "metadata": {},
     "output_type": "execute_result"
    }
   ],
   "source": [
    "np.min(norm_objects), np.max(norm_objects)"
   ]
  },
  {
   "cell_type": "code",
   "execution_count": null,
   "metadata": {},
   "outputs": [],
   "source": [
    "tokenizer = BertTokenizer.from_pretrained('bert-base-uncased')\n",
    "model = BertModel.from_pretrained('bert-base-uncased')\n",
    "model.eval()\n",
    "model"
   ]
  },
  {
   "cell_type": "code",
   "execution_count": null,
   "metadata": {},
   "outputs": [],
   "source": [
    "size = 608598\n",
    "index = 0\n",
    "errors = 0\n",
    "sents = []\n",
    "with open('./data/yelp/reviewContent') as f:\n",
    "    for line in tqdm_notebook(f):\n",
    "        uid, mark, year, sentence = line.split('\\t', 3)\n",
    "        tokenized_text = word_tokenizer.tokenize(sentence)\n",
    "        index += 1\n",
    "        continue\n",
    "        indexed_tokens = tokenizer.convert_tokens_to_ids(tokenized_text)\n",
    "\n",
    "        # Define sentence A and B indices associated to 1st and 2nd sentences (see paper)\n",
    "        segments_ids = [0] * len(tokenized_text)\n",
    "\n",
    "        # Convert inputs to PyTorch tensors\n",
    "        tokens_tensor = torch.tensor([indexed_tokens])\n",
    "        segments_tensors = torch.tensor([segments_ids])\n",
    "        \n",
    "        with torch.no_grad():\n",
    "            try:\n",
    "                encoded_layers, output = model(tokens_tensor, segments_tensors)\n",
    "            except RuntimeError:\n",
    "                errors += 1\n",
    "        index += 1\n",
    "        if index == 1000:\n",
    "            break\n",
    "assert index == size\n",
    "errors"
   ]
  },
  {
   "cell_type": "code",
   "execution_count": 49,
   "metadata": {},
   "outputs": [],
   "source": [
    "from sklearn.cluster import KMeans"
   ]
  },
  {
   "cell_type": "code",
   "execution_count": 50,
   "metadata": {},
   "outputs": [],
   "source": [
    "objects = np.load(\"all_200000_targets.npy\")\n",
    "target = objects[:-2, -1]\n",
    "objects = objects[:-2, :-1]\n",
    "objects = StandardScaler().fit_transform(objects)"
   ]
  },
  {
   "cell_type": "code",
   "execution_count": 51,
   "metadata": {},
   "outputs": [],
   "source": [
    "model = KMeans(n_clusters = 50, init='k-means++')"
   ]
  },
  {
   "cell_type": "code",
   "execution_count": 52,
   "metadata": {},
   "outputs": [],
   "source": [
    "predict = model.fit_predict(objects)"
   ]
  },
  {
   "cell_type": "code",
   "execution_count": 64,
   "metadata": {},
   "outputs": [],
   "source": [
    "clusters = [[] for _ in range(50)]"
   ]
  },
  {
   "cell_type": "code",
   "execution_count": 65,
   "metadata": {},
   "outputs": [],
   "source": [
    "for i, x in enumerate(predict):\n",
    "    clusters[x].append(i)"
   ]
  },
  {
   "cell_type": "code",
   "execution_count": 67,
   "metadata": {},
   "outputs": [
    {
     "name": "stdout",
     "output_type": "stream",
     "text": [
      "6513 946\n",
      "5210 618\n",
      "2924 606\n",
      "5778 683\n",
      "3198 693\n",
      "5220 374\n",
      "3148 619\n",
      "4374 840\n",
      "3750 521\n",
      "1045 275\n",
      "474 124\n",
      "5718 1674\n",
      "5082 846\n",
      "494 194\n",
      "2440 627\n",
      "4173 388\n",
      "2060 600\n",
      "384 70\n",
      "4517 506\n",
      "5684 421\n",
      "8786 624\n",
      "650 257\n",
      "6489 633\n",
      "4316 708\n",
      "5929 1169\n",
      "1009 231\n",
      "475 77\n",
      "4188 349\n",
      "1065 301\n",
      "10111 790\n",
      "56 46\n",
      "4904 672\n",
      "2909 548\n",
      "5590 712\n",
      "6040 1003\n",
      "159 105\n",
      "428 210\n",
      "1970 547\n",
      "5359 800\n",
      "5557 1065\n",
      "5009 1211\n",
      "1407 370\n",
      "644 310\n",
      "6462 519\n",
      "2243 364\n",
      "2812 475\n",
      "5973 482\n",
      "51 55\n",
      "1044 163\n",
      "449 145\n"
     ]
    }
   ],
   "source": [
    "for cluster in clusters:\n",
    "    positive = 0\n",
    "    negative = 0\n",
    "    for i in cluster:\n",
    "        if target[i] == 1:\n",
    "            positive += 1\n",
    "        else:\n",
    "            negative += 1\n",
    "    print(positive, negative)"
   ]
  },
  {
   "cell_type": "code",
   "execution_count": null,
   "metadata": {},
   "outputs": [],
   "source": []
  }
 ],
 "metadata": {
  "kernelspec": {
   "display_name": "Python 3",
   "language": "python",
   "name": "python3"
  },
  "language_info": {
   "codemirror_mode": {
    "name": "ipython",
    "version": 3
   },
   "file_extension": ".py",
   "mimetype": "text/x-python",
   "name": "python",
   "nbconvert_exporter": "python",
   "pygments_lexer": "ipython3",
   "version": "3.7.1"
  }
 },
 "nbformat": 4,
 "nbformat_minor": 2
}
